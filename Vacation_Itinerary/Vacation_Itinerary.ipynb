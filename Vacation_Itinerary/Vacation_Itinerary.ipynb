{
 "cells": [
  {
   "cell_type": "markdown",
   "metadata": {},
   "source": [
    "# Deliverable 3. Create a Travel Itinerary Map.\n",
    "----\n",
    "1. Import the vacation CSV file. \n",
    "2. From the map above with pick 4 cities that are in close proximity (on the same continent) that the customer would travel to and create a directions layer map.\n",
    "3. For the \"travel_mode\" use either \"DRIVING\", \"BICYCLING\", or \"WALKING\".\n",
    "4. Take a screenshot of the route and save it. \n",
    "5. Then create a marker layer for the four cities. Each city will should have a pop-up marker that contains\n",
    "    - The hotel name\n",
    "    - The city\n",
    "    - The country\n",
    "    - The current weather description and the maximum temperature\n",
    "---"
   ]
  },
  {
   "cell_type": "markdown",
   "metadata": {},
   "source": [
    "## Make sure the initial dependencies and the Google API key are imported."
   ]
  },
  {
   "cell_type": "code",
   "execution_count": 1,
   "metadata": {},
   "outputs": [],
   "source": [
    "# Dependencies and Setup\n",
    "import pandas as pd\n",
    "import requests\n",
    "import gmaps\n",
    "\n",
    "# Import API key\n",
    "from config import g_key"
   ]
  },
  {
   "cell_type": "code",
   "execution_count": 2,
   "metadata": {},
   "outputs": [],
   "source": [
    "# Configure gmaps\n",
    "gmaps.configure(api_key=g_key)"
   ]
  },
  {
   "cell_type": "markdown",
   "metadata": {},
   "source": [
    "## From your `Vacation_Search` folder from Deliverable 2, import the `WeatherPy_vacation.csv` file as a DataFrame named `vacation_df`"
   ]
  },
  {
   "cell_type": "code",
   "execution_count": 18,
   "metadata": {},
   "outputs": [
    {
     "data": {
      "text/html": [
       "<div>\n",
       "<style scoped>\n",
       "    .dataframe tbody tr th:only-of-type {\n",
       "        vertical-align: middle;\n",
       "    }\n",
       "\n",
       "    .dataframe tbody tr th {\n",
       "        vertical-align: top;\n",
       "    }\n",
       "\n",
       "    .dataframe thead th {\n",
       "        text-align: right;\n",
       "    }\n",
       "</style>\n",
       "<table border=\"1\" class=\"dataframe\">\n",
       "  <thead>\n",
       "    <tr style=\"text-align: right;\">\n",
       "      <th></th>\n",
       "      <th>City_ID</th>\n",
       "      <th>City</th>\n",
       "      <th>Country</th>\n",
       "      <th>Max Temp</th>\n",
       "      <th>Lat</th>\n",
       "      <th>Lng</th>\n",
       "      <th>Current_Description</th>\n",
       "      <th>Hotel Name</th>\n",
       "    </tr>\n",
       "  </thead>\n",
       "  <tbody>\n",
       "    <tr>\n",
       "      <th>0</th>\n",
       "      <td>0</td>\n",
       "      <td>Sandnessjoen</td>\n",
       "      <td>NO</td>\n",
       "      <td>48.42</td>\n",
       "      <td>66.0217</td>\n",
       "      <td>12.6316</td>\n",
       "      <td>overcast clouds</td>\n",
       "      <td>Syv Søstre Apartments</td>\n",
       "    </tr>\n",
       "    <tr>\n",
       "      <th>1</th>\n",
       "      <td>1</td>\n",
       "      <td>Ushuaia</td>\n",
       "      <td>AR</td>\n",
       "      <td>40.66</td>\n",
       "      <td>-54.8000</td>\n",
       "      <td>-68.3000</td>\n",
       "      <td>overcast clouds</td>\n",
       "      <td>Albatross Hotel</td>\n",
       "    </tr>\n",
       "    <tr>\n",
       "      <th>2</th>\n",
       "      <td>3</td>\n",
       "      <td>Hermanus</td>\n",
       "      <td>ZA</td>\n",
       "      <td>53.80</td>\n",
       "      <td>-34.4187</td>\n",
       "      <td>19.2345</td>\n",
       "      <td>overcast clouds</td>\n",
       "      <td>Misty Waves Boutique Hotel</td>\n",
       "    </tr>\n",
       "    <tr>\n",
       "      <th>3</th>\n",
       "      <td>4</td>\n",
       "      <td>La Rioja</td>\n",
       "      <td>ES</td>\n",
       "      <td>46.18</td>\n",
       "      <td>42.2500</td>\n",
       "      <td>-2.5000</td>\n",
       "      <td>overcast clouds</td>\n",
       "      <td>Casa Concejos</td>\n",
       "    </tr>\n",
       "    <tr>\n",
       "      <th>4</th>\n",
       "      <td>9</td>\n",
       "      <td>Altayskoye</td>\n",
       "      <td>RU</td>\n",
       "      <td>43.57</td>\n",
       "      <td>51.9533</td>\n",
       "      <td>85.3325</td>\n",
       "      <td>overcast clouds</td>\n",
       "      <td>ЭКО-ТРЕВЕЛ АЛТАЙ</td>\n",
       "    </tr>\n",
       "    <tr>\n",
       "      <th>5</th>\n",
       "      <td>12</td>\n",
       "      <td>Bredasdorp</td>\n",
       "      <td>ZA</td>\n",
       "      <td>54.63</td>\n",
       "      <td>-34.5322</td>\n",
       "      <td>20.0403</td>\n",
       "      <td>overcast clouds</td>\n",
       "      <td>Bredasdorp Country Manor</td>\n",
       "    </tr>\n",
       "    <tr>\n",
       "      <th>6</th>\n",
       "      <td>14</td>\n",
       "      <td>Havre-Saint-Pierre</td>\n",
       "      <td>CA</td>\n",
       "      <td>47.28</td>\n",
       "      <td>50.2334</td>\n",
       "      <td>-63.5986</td>\n",
       "      <td>overcast clouds</td>\n",
       "      <td>Auberge Niapiskau 2</td>\n",
       "    </tr>\n",
       "    <tr>\n",
       "      <th>7</th>\n",
       "      <td>21</td>\n",
       "      <td>Mar Del Plata</td>\n",
       "      <td>AR</td>\n",
       "      <td>52.09</td>\n",
       "      <td>-38.0023</td>\n",
       "      <td>-57.5575</td>\n",
       "      <td>overcast clouds</td>\n",
       "      <td>Gran Hotel Mar del Plata</td>\n",
       "    </tr>\n",
       "    <tr>\n",
       "      <th>8</th>\n",
       "      <td>22</td>\n",
       "      <td>Matagami</td>\n",
       "      <td>CA</td>\n",
       "      <td>51.22</td>\n",
       "      <td>49.7502</td>\n",
       "      <td>-77.6328</td>\n",
       "      <td>overcast clouds</td>\n",
       "      <td>Motel Le Caribou</td>\n",
       "    </tr>\n",
       "    <tr>\n",
       "      <th>9</th>\n",
       "      <td>25</td>\n",
       "      <td>Koscierzyna</td>\n",
       "      <td>PL</td>\n",
       "      <td>51.30</td>\n",
       "      <td>54.1223</td>\n",
       "      <td>17.9812</td>\n",
       "      <td>overcast clouds</td>\n",
       "      <td>Bazuny Hotel &amp; SPA Kaszuby</td>\n",
       "    </tr>\n",
       "  </tbody>\n",
       "</table>\n",
       "</div>"
      ],
      "text/plain": [
       "   City_ID                City Country  Max Temp      Lat      Lng  \\\n",
       "0        0        Sandnessjoen      NO     48.42  66.0217  12.6316   \n",
       "1        1             Ushuaia      AR     40.66 -54.8000 -68.3000   \n",
       "2        3            Hermanus      ZA     53.80 -34.4187  19.2345   \n",
       "3        4            La Rioja      ES     46.18  42.2500  -2.5000   \n",
       "4        9          Altayskoye      RU     43.57  51.9533  85.3325   \n",
       "5       12          Bredasdorp      ZA     54.63 -34.5322  20.0403   \n",
       "6       14  Havre-Saint-Pierre      CA     47.28  50.2334 -63.5986   \n",
       "7       21       Mar Del Plata      AR     52.09 -38.0023 -57.5575   \n",
       "8       22            Matagami      CA     51.22  49.7502 -77.6328   \n",
       "9       25         Koscierzyna      PL     51.30  54.1223  17.9812   \n",
       "\n",
       "  Current_Description                  Hotel Name  \n",
       "0     overcast clouds       Syv Søstre Apartments  \n",
       "1     overcast clouds             Albatross Hotel  \n",
       "2     overcast clouds  Misty Waves Boutique Hotel  \n",
       "3     overcast clouds               Casa Concejos  \n",
       "4     overcast clouds            ЭКО-ТРЕВЕЛ АЛТАЙ  \n",
       "5     overcast clouds    Bredasdorp Country Manor  \n",
       "6     overcast clouds         Auberge Niapiskau 2  \n",
       "7     overcast clouds    Gran Hotel Mar del Plata  \n",
       "8     overcast clouds            Motel Le Caribou  \n",
       "9     overcast clouds  Bazuny Hotel & SPA Kaszuby  "
      ]
     },
     "execution_count": 18,
     "metadata": {},
     "output_type": "execute_result"
    }
   ],
   "source": [
    "# Read the WeatherPy_vacation.csv into a DataFrame\n",
    "file_path = \"../Vacation_Search/WeatherPy_vacation.csv\"\n",
    "vacation_df = pd.read_csv(file_path)\n",
    "\n",
    "# Display sample data\n",
    "vacation_df.head(10)"
   ]
  },
  {
   "cell_type": "markdown",
   "metadata": {},
   "source": [
    "**Note:** If the resulting DataFrame is empty, uncomment the following code to load sample data into the `clean_hotel_df`."
   ]
  },
  {
   "cell_type": "code",
   "execution_count": 19,
   "metadata": {},
   "outputs": [],
   "source": [
    "# In case of an empty DataFrame, load the sample data provided\n",
    "# clean_hotel_df = pd.read_csv(\"WeatherPy_vacation-backup.csv\")\n",
    "# clean_hotel_df.head(10)"
   ]
  },
  {
   "cell_type": "markdown",
   "metadata": {
    "tags": []
   },
   "source": [
    "## In this step, you will set-up the pop-up markers. Review the code to create a marker layer map of the vacation search results. This code is the same as in Deliverable 2."
   ]
  },
  {
   "cell_type": "code",
   "execution_count": 42,
   "metadata": {},
   "outputs": [],
   "source": [
    "# Review the formatting template\n",
    "info_box_template = \"\"\"\n",
    "<dl>\n",
    "<dt>Hotel Name</dt><dd>{Hotel Name}</dd>\n",
    "<dt>City</dt><dd>{City}</dd>\n",
    "<dt>Country</dt><dd>{Country}</dd>\n",
    "<dt>Current Weather</dt><dd>{Current_Description} and {Max Temp} °F</dd>\n",
    "</dl>\n",
    "\"\"\"\n",
    "\n",
    "# Get the data from each row and add it to the formatting template and store the data in a list\n",
    "hotel_info = [info_box_template.format(**row) for index, row in vacation_df.iterrows()]\n",
    "\n",
    "# Get the latitude and longitude from each row and store in a new DataFrame.\n",
    "locations = vacation_df[[\"Lat\", \"Lng\"]]"
   ]
  },
  {
   "cell_type": "code",
   "execution_count": 43,
   "metadata": {},
   "outputs": [
    {
     "data": {
      "text/html": [
       "<div>\n",
       "<style scoped>\n",
       "    .dataframe tbody tr th:only-of-type {\n",
       "        vertical-align: middle;\n",
       "    }\n",
       "\n",
       "    .dataframe tbody tr th {\n",
       "        vertical-align: top;\n",
       "    }\n",
       "\n",
       "    .dataframe thead th {\n",
       "        text-align: right;\n",
       "    }\n",
       "</style>\n",
       "<table border=\"1\" class=\"dataframe\">\n",
       "  <thead>\n",
       "    <tr style=\"text-align: right;\">\n",
       "      <th></th>\n",
       "      <th>Lat</th>\n",
       "      <th>Lng</th>\n",
       "    </tr>\n",
       "  </thead>\n",
       "  <tbody>\n",
       "    <tr>\n",
       "      <th>0</th>\n",
       "      <td>66.0217</td>\n",
       "      <td>12.6316</td>\n",
       "    </tr>\n",
       "    <tr>\n",
       "      <th>1</th>\n",
       "      <td>-54.8000</td>\n",
       "      <td>-68.3000</td>\n",
       "    </tr>\n",
       "    <tr>\n",
       "      <th>2</th>\n",
       "      <td>-34.4187</td>\n",
       "      <td>19.2345</td>\n",
       "    </tr>\n",
       "    <tr>\n",
       "      <th>3</th>\n",
       "      <td>42.2500</td>\n",
       "      <td>-2.5000</td>\n",
       "    </tr>\n",
       "    <tr>\n",
       "      <th>4</th>\n",
       "      <td>51.9533</td>\n",
       "      <td>85.3325</td>\n",
       "    </tr>\n",
       "    <tr>\n",
       "      <th>...</th>\n",
       "      <td>...</td>\n",
       "      <td>...</td>\n",
       "    </tr>\n",
       "    <tr>\n",
       "      <th>186</th>\n",
       "      <td>63.1906</td>\n",
       "      <td>64.4162</td>\n",
       "    </tr>\n",
       "    <tr>\n",
       "      <th>187</th>\n",
       "      <td>62.8000</td>\n",
       "      <td>43.2500</td>\n",
       "    </tr>\n",
       "    <tr>\n",
       "      <th>188</th>\n",
       "      <td>59.5336</td>\n",
       "      <td>33.9167</td>\n",
       "    </tr>\n",
       "    <tr>\n",
       "      <th>189</th>\n",
       "      <td>-36.3132</td>\n",
       "      <td>-57.6792</td>\n",
       "    </tr>\n",
       "    <tr>\n",
       "      <th>190</th>\n",
       "      <td>56.5167</td>\n",
       "      <td>36.2667</td>\n",
       "    </tr>\n",
       "  </tbody>\n",
       "</table>\n",
       "<p>191 rows × 2 columns</p>\n",
       "</div>"
      ],
      "text/plain": [
       "         Lat      Lng\n",
       "0    66.0217  12.6316\n",
       "1   -54.8000 -68.3000\n",
       "2   -34.4187  19.2345\n",
       "3    42.2500  -2.5000\n",
       "4    51.9533  85.3325\n",
       "..       ...      ...\n",
       "186  63.1906  64.4162\n",
       "187  62.8000  43.2500\n",
       "188  59.5336  33.9167\n",
       "189 -36.3132 -57.6792\n",
       "190  56.5167  36.2667\n",
       "\n",
       "[191 rows x 2 columns]"
      ]
     },
     "execution_count": 43,
     "metadata": {},
     "output_type": "execute_result"
    }
   ],
   "source": [
    "locations"
   ]
  },
  {
   "cell_type": "code",
   "execution_count": 44,
   "metadata": {},
   "outputs": [
    {
     "data": {
      "text/plain": [
       "['\\n<dl>\\n<dt>Hotel Name</dt><dd>Syv Søstre Apartments</dd>\\n<dt>City</dt><dd>Sandnessjoen</dd>\\n<dt>Country</dt><dd>NO</dd>\\n<dt>Current Weather</dt><dd>overcast clouds and 48.42 °F</dd>\\n</dl>\\n',\n",
       " '\\n<dl>\\n<dt>Hotel Name</dt><dd>Albatross Hotel</dd>\\n<dt>City</dt><dd>Ushuaia</dd>\\n<dt>Country</dt><dd>AR</dd>\\n<dt>Current Weather</dt><dd>overcast clouds and 40.66 °F</dd>\\n</dl>\\n',\n",
       " '\\n<dl>\\n<dt>Hotel Name</dt><dd>Misty Waves Boutique Hotel</dd>\\n<dt>City</dt><dd>Hermanus</dd>\\n<dt>Country</dt><dd>ZA</dd>\\n<dt>Current Weather</dt><dd>overcast clouds and 53.8 °F</dd>\\n</dl>\\n',\n",
       " '\\n<dl>\\n<dt>Hotel Name</dt><dd>Casa Concejos</dd>\\n<dt>City</dt><dd>La Rioja</dd>\\n<dt>Country</dt><dd>ES</dd>\\n<dt>Current Weather</dt><dd>overcast clouds and 46.18 °F</dd>\\n</dl>\\n',\n",
       " '\\n<dl>\\n<dt>Hotel Name</dt><dd>ЭКО-ТРЕВЕЛ АЛТАЙ</dd>\\n<dt>City</dt><dd>Altayskoye</dd>\\n<dt>Country</dt><dd>RU</dd>\\n<dt>Current Weather</dt><dd>overcast clouds and 43.57 °F</dd>\\n</dl>\\n',\n",
       " '\\n<dl>\\n<dt>Hotel Name</dt><dd>Bredasdorp Country Manor</dd>\\n<dt>City</dt><dd>Bredasdorp</dd>\\n<dt>Country</dt><dd>ZA</dd>\\n<dt>Current Weather</dt><dd>overcast clouds and 54.63 °F</dd>\\n</dl>\\n',\n",
       " '\\n<dl>\\n<dt>Hotel Name</dt><dd>Auberge Niapiskau 2</dd>\\n<dt>City</dt><dd>Havre-Saint-Pierre</dd>\\n<dt>Country</dt><dd>CA</dd>\\n<dt>Current Weather</dt><dd>overcast clouds and 47.28 °F</dd>\\n</dl>\\n',\n",
       " '\\n<dl>\\n<dt>Hotel Name</dt><dd>Gran Hotel Mar del Plata</dd>\\n<dt>City</dt><dd>Mar Del Plata</dd>\\n<dt>Country</dt><dd>AR</dd>\\n<dt>Current Weather</dt><dd>overcast clouds and 52.09 °F</dd>\\n</dl>\\n',\n",
       " '\\n<dl>\\n<dt>Hotel Name</dt><dd>Motel Le Caribou</dd>\\n<dt>City</dt><dd>Matagami</dd>\\n<dt>Country</dt><dd>CA</dd>\\n<dt>Current Weather</dt><dd>overcast clouds and 51.22 °F</dd>\\n</dl>\\n',\n",
       " '\\n<dl>\\n<dt>Hotel Name</dt><dd>Bazuny Hotel & SPA Kaszuby</dd>\\n<dt>City</dt><dd>Koscierzyna</dd>\\n<dt>Country</dt><dd>PL</dd>\\n<dt>Current Weather</dt><dd>overcast clouds and 51.3 °F</dd>\\n</dl>\\n',\n",
       " '\\n<dl>\\n<dt>Hotel Name</dt><dd>Hotel Hain</dd>\\n<dt>City</dt><dd>Punta Arenas</dd>\\n<dt>Country</dt><dd>CL</dd>\\n<dt>Current Weather</dt><dd>overcast clouds and 42.12 °F</dd>\\n</dl>\\n',\n",
       " '\\n<dl>\\n<dt>Hotel Name</dt><dd>Hotel San Juan</dd>\\n<dt>City</dt><dd>Coquimbo</dd>\\n<dt>Country</dt><dd>CL</dd>\\n<dt>Current Weather</dt><dd>overcast clouds and 55.13 °F</dd>\\n</dl>\\n',\n",
       " '\\n<dl>\\n<dt>Hotel Name</dt><dd>CHACARA BAILLY</dd>\\n<dt>City</dt><dd>Castro</dd>\\n<dt>Country</dt><dd>BR</dd>\\n<dt>Current Weather</dt><dd>overcast clouds and 55.92 °F</dd>\\n</dl>\\n',\n",
       " '\\n<dl>\\n<dt>Hotel Name</dt><dd>Camping Municipal La Louvière</dd>\\n<dt>City</dt><dd>Vesoul</dd>\\n<dt>Country</dt><dd>FR</dd>\\n<dt>Current Weather</dt><dd>overcast clouds and 46.08 °F</dd>\\n</dl>\\n',\n",
       " '\\n<dl>\\n<dt>Hotel Name</dt><dd>Utpå Neset AS</dd>\\n<dt>City</dt><dd>Trofors</dd>\\n<dt>Country</dt><dd>NO</dd>\\n<dt>Current Weather</dt><dd>overcast clouds and 44.47 °F</dd>\\n</dl>\\n',\n",
       " '\\n<dl>\\n<dt>Hotel Name</dt><dd>nan</dd>\\n<dt>City</dt><dd>Vagay</dd>\\n<dt>Country</dt><dd>RU</dd>\\n<dt>Current Weather</dt><dd>overcast clouds and 47.19 °F</dd>\\n</dl>\\n',\n",
       " '\\n<dl>\\n<dt>Hotel Name</dt><dd>Hotel Castelo</dd>\\n<dt>City</dt><dd>Cidreira</dd>\\n<dt>Country</dt><dd>BR</dd>\\n<dt>Current Weather</dt><dd>overcast clouds and 51.6 °F</dd>\\n</dl>\\n',\n",
       " '\\n<dl>\\n<dt>Hotel Name</dt><dd>Hotel Arrarte</dd>\\n<dt>City</dt><dd>Rocha</dd>\\n<dt>Country</dt><dd>UY</dd>\\n<dt>Current Weather</dt><dd>overcast clouds and 45.63 °F</dd>\\n</dl>\\n',\n",
       " '\\n<dl>\\n<dt>Hotel Name</dt><dd>Hotel del Comahue</dd>\\n<dt>City</dt><dd>Neuquen</dd>\\n<dt>Country</dt><dd>AR</dd>\\n<dt>Current Weather</dt><dd>overcast clouds and 48.09 °F</dd>\\n</dl>\\n',\n",
       " '\\n<dl>\\n<dt>Hotel Name</dt><dd>Кафе-гостиница \"Привал\" бесплатный WiFi, номер 500 руб.</dd>\\n<dt>City</dt><dd>Kostino</dd>\\n<dt>Country</dt><dd>RU</dd>\\n<dt>Current Weather</dt><dd>overcast clouds and 48.22 °F</dd>\\n</dl>\\n',\n",
       " '\\n<dl>\\n<dt>Hotel Name</dt><dd>Family</dd>\\n<dt>City</dt><dd>Balkhash</dd>\\n<dt>Country</dt><dd>KZ</dd>\\n<dt>Current Weather</dt><dd>overcast clouds and 48.81 °F</dd>\\n</dl>\\n',\n",
       " '\\n<dl>\\n<dt>Hotel Name</dt><dd>nan</dd>\\n<dt>City</dt><dd>Agirish</dd>\\n<dt>Country</dt><dd>RU</dd>\\n<dt>Current Weather</dt><dd>overcast clouds and 43.95 °F</dd>\\n</dl>\\n',\n",
       " '\\n<dl>\\n<dt>Hotel Name</dt><dd>Hotel Warszawa SPA & Resort</dd>\\n<dt>City</dt><dd>Augustow</dd>\\n<dt>Country</dt><dd>PL</dd>\\n<dt>Current Weather</dt><dd>overcast clouds and 49.01 °F</dd>\\n</dl>\\n',\n",
       " '\\n<dl>\\n<dt>Hotel Name</dt><dd>Moroshka Inn</dd>\\n<dt>City</dt><dd>Kargopol</dd>\\n<dt>Country</dt><dd>RU</dd>\\n<dt>Current Weather</dt><dd>overcast clouds and 44.49 °F</dd>\\n</dl>\\n',\n",
       " '\\n<dl>\\n<dt>Hotel Name</dt><dd>Hampton Inn & Suites Jamestown</dd>\\n<dt>City</dt><dd>Jamestown</dd>\\n<dt>Country</dt><dd>US</dd>\\n<dt>Current Weather</dt><dd>overcast clouds and 42.19 °F</dd>\\n</dl>\\n',\n",
       " '\\n<dl>\\n<dt>Hotel Name</dt><dd>Yalemd</dd>\\n<dt>City</dt><dd>Yar-Sale</dd>\\n<dt>Country</dt><dd>RU</dd>\\n<dt>Current Weather</dt><dd>overcast clouds and 40.15 °F</dd>\\n</dl>\\n',\n",
       " '\\n<dl>\\n<dt>Hotel Name</dt><dd>Mini-Hotel on Prosveshcheniya</dd>\\n<dt>City</dt><dd>Demidov</dd>\\n<dt>Country</dt><dd>RU</dd>\\n<dt>Current Weather</dt><dd>overcast clouds and 40.66 °F</dd>\\n</dl>\\n',\n",
       " '\\n<dl>\\n<dt>Hotel Name</dt><dd>Park Inn Motel</dd>\\n<dt>City</dt><dd>Kapuskasing</dd>\\n<dt>Country</dt><dd>CA</dd>\\n<dt>Current Weather</dt><dd>overcast clouds and 50.25 °F</dd>\\n</dl>\\n',\n",
       " '\\n<dl>\\n<dt>Hotel Name</dt><dd>Sjybrygga fiskecamp</dd>\\n<dt>City</dt><dd>Sorland</dd>\\n<dt>Country</dt><dd>NO</dd>\\n<dt>Current Weather</dt><dd>overcast clouds and 46.26 °F</dd>\\n</dl>\\n',\n",
       " '\\n<dl>\\n<dt>Hotel Name</dt><dd>Hotel Patagonia</dd>\\n<dt>City</dt><dd>San Carlos De Bariloche</dd>\\n<dt>Country</dt><dd>AR</dd>\\n<dt>Current Weather</dt><dd>overcast clouds and 44.24 °F</dd>\\n</dl>\\n',\n",
       " '\\n<dl>\\n<dt>Hotel Name</dt><dd>Holiday Inn Express Puerto Montt</dd>\\n<dt>City</dt><dd>Puerto Montt</dd>\\n<dt>Country</dt><dd>CL</dd>\\n<dt>Current Weather</dt><dd>overcast clouds and 49.75 °F</dd>\\n</dl>\\n',\n",
       " '\\n<dl>\\n<dt>Hotel Name</dt><dd>Shaturskiy Bereg, Baza Otdykha</dd>\\n<dt>City</dt><dd>Shatura</dd>\\n<dt>Country</dt><dd>RU</dd>\\n<dt>Current Weather</dt><dd>overcast clouds and 49.64 °F</dd>\\n</dl>\\n',\n",
       " '\\n<dl>\\n<dt>Hotel Name</dt><dd>Gallows Cove</dd>\\n<dt>City</dt><dd>Torbay</dd>\\n<dt>Country</dt><dd>CA</dd>\\n<dt>Current Weather</dt><dd>overcast clouds and 41.76 °F</dd>\\n</dl>\\n',\n",
       " '\\n<dl>\\n<dt>Hotel Name</dt><dd>Hotell Frøya</dd>\\n<dt>City</dt><dd>Sistranda</dd>\\n<dt>Country</dt><dd>NO</dd>\\n<dt>Current Weather</dt><dd>overcast clouds and 49.96 °F</dd>\\n</dl>\\n',\n",
       " '\\n<dl>\\n<dt>Hotel Name</dt><dd>Hotel Kuusanka</dd>\\n<dt>City</dt><dd>Kuusamo</dd>\\n<dt>Country</dt><dd>FI</dd>\\n<dt>Current Weather</dt><dd>overcast clouds and 41.04 °F</dd>\\n</dl>\\n',\n",
       " '\\n<dl>\\n<dt>Hotel Name</dt><dd>Airbnb rooms</dd>\\n<dt>City</dt><dd>Klaksvik</dd>\\n<dt>Country</dt><dd>FO</dd>\\n<dt>Current Weather</dt><dd>overcast clouds and 54.52 °F</dd>\\n</dl>\\n',\n",
       " '\\n<dl>\\n<dt>Hotel Name</dt><dd>Hôtel Bel-Air, Sport & Wellness - Echternach</dd>\\n<dt>City</dt><dd>Echternach</dd>\\n<dt>Country</dt><dd>LU</dd>\\n<dt>Current Weather</dt><dd>overcast clouds and 46.62 °F</dd>\\n</dl>\\n',\n",
       " '\\n<dl>\\n<dt>Hotel Name</dt><dd>Ramada Limited Indianapolis West</dd>\\n<dt>City</dt><dd>Speedway</dd>\\n<dt>Country</dt><dd>US</dd>\\n<dt>Current Weather</dt><dd>overcast clouds and 51.46 °F</dd>\\n</dl>\\n',\n",
       " '\\n<dl>\\n<dt>Hotel Name</dt><dd>Hostal Las Lilas</dd>\\n<dt>City</dt><dd>Lebu</dd>\\n<dt>Country</dt><dd>CL</dd>\\n<dt>Current Weather</dt><dd>overcast clouds and 51.1 °F</dd>\\n</dl>\\n',\n",
       " '\\n<dl>\\n<dt>Hotel Name</dt><dd>Nuevo Hotel Plaza</dd>\\n<dt>City</dt><dd>Chuy</dd>\\n<dt>Country</dt><dd>UY</dd>\\n<dt>Current Weather</dt><dd>overcast clouds and 53.96 °F</dd>\\n</dl>\\n',\n",
       " '\\n<dl>\\n<dt>Hotel Name</dt><dd>Holiday Inn Express Antofagasta, an IHG Hotel</dd>\\n<dt>City</dt><dd>Antofagasta</dd>\\n<dt>Country</dt><dd>CL</dd>\\n<dt>Current Weather</dt><dd>overcast clouds and 54.43 °F</dd>\\n</dl>\\n',\n",
       " '\\n<dl>\\n<dt>Hotel Name</dt><dd>Guesthouse 77</dd>\\n<dt>City</dt><dd>Eyrarbakki</dd>\\n<dt>Country</dt><dd>IS</dd>\\n<dt>Current Weather</dt><dd>overcast clouds and 47.21 °F</dd>\\n</dl>\\n',\n",
       " '\\n<dl>\\n<dt>Hotel Name</dt><dd>Gostinitsa Miks</dd>\\n<dt>City</dt><dd>Konosha</dd>\\n<dt>Country</dt><dd>RU</dd>\\n<dt>Current Weather</dt><dd>overcast clouds and 44.02 °F</dd>\\n</dl>\\n',\n",
       " '\\n<dl>\\n<dt>Hotel Name</dt><dd>Ural</dd>\\n<dt>City</dt><dd>Shadrinsk</dd>\\n<dt>Country</dt><dd>RU</dd>\\n<dt>Current Weather</dt><dd>overcast clouds and 51.01 °F</dd>\\n</dl>\\n',\n",
       " '\\n<dl>\\n<dt>Hotel Name</dt><dd>The Westport Inn</dd>\\n<dt>City</dt><dd>Westport</dd>\\n<dt>Country</dt><dd>US</dd>\\n<dt>Current Weather</dt><dd>overcast clouds and 51.57 °F</dd>\\n</dl>\\n',\n",
       " '\\n<dl>\\n<dt>Hotel Name</dt><dd>HOSPADAJE ERICA</dd>\\n<dt>City</dt><dd>Purranque</dd>\\n<dt>Country</dt><dd>CL</dd>\\n<dt>Current Weather</dt><dd>overcast clouds and 49.28 °F</dd>\\n</dl>\\n',\n",
       " '\\n<dl>\\n<dt>Hotel Name</dt><dd>ANDERS Hotel Walsrode</dd>\\n<dt>City</dt><dd>Walsrode</dd>\\n<dt>Country</dt><dd>DE</dd>\\n<dt>Current Weather</dt><dd>overcast clouds and 51.03 °F</dd>\\n</dl>\\n',\n",
       " '\\n<dl>\\n<dt>Hotel Name</dt><dd>nan</dd>\\n<dt>City</dt><dd>Ostrovnoy</dd>\\n<dt>Country</dt><dd>RU</dd>\\n<dt>Current Weather</dt><dd>overcast clouds and 40.37 °F</dd>\\n</dl>\\n',\n",
       " '\\n<dl>\\n<dt>Hotel Name</dt><dd>nan</dd>\\n<dt>City</dt><dd>Krasnomayskiy</dd>\\n<dt>Country</dt><dd>RU</dd>\\n<dt>Current Weather</dt><dd>overcast clouds and 41.77 °F</dd>\\n</dl>\\n',\n",
       " '\\n<dl>\\n<dt>Hotel Name</dt><dd>Drifters Motel & Restaurant</dd>\\n<dt>City</dt><dd>Terrace Bay</dd>\\n<dt>Country</dt><dd>CA</dd>\\n<dt>Current Weather</dt><dd>overcast clouds and 52.25 °F</dd>\\n</dl>\\n',\n",
       " '\\n<dl>\\n<dt>Hotel Name</dt><dd>Hostal Entre Rios</dd>\\n<dt>City</dt><dd>Valdivia</dd>\\n<dt>Country</dt><dd>CL</dd>\\n<dt>Current Weather</dt><dd>overcast clouds and 51.89 °F</dd>\\n</dl>\\n',\n",
       " '\\n<dl>\\n<dt>Hotel Name</dt><dd>Perekrestok</dd>\\n<dt>City</dt><dd>Shemonaikha</dd>\\n<dt>Country</dt><dd>KZ</dd>\\n<dt>Current Weather</dt><dd>overcast clouds and 47.77 °F</dd>\\n</dl>\\n',\n",
       " '\\n<dl>\\n<dt>Hotel Name</dt><dd>Quality Inn Near Joint Base Andrews-Washington Area</dd>\\n<dt>City</dt><dd>Forestville</dd>\\n<dt>Country</dt><dd>US</dd>\\n<dt>Current Weather</dt><dd>overcast clouds and 48.18 °F</dd>\\n</dl>\\n',\n",
       " '\\n<dl>\\n<dt>Hotel Name</dt><dd>Hotel Arena Gruesa</dd>\\n<dt>City</dt><dd>Ancud</dd>\\n<dt>Country</dt><dd>CL</dd>\\n<dt>Current Weather</dt><dd>overcast clouds and 52.23 °F</dd>\\n</dl>\\n',\n",
       " '\\n<dl>\\n<dt>Hotel Name</dt><dd>Gostinicha IP Kayuda Olga Aleksandrovna</dd>\\n<dt>City</dt><dd>Kozhva</dd>\\n<dt>Country</dt><dd>RU</dd>\\n<dt>Current Weather</dt><dd>overcast clouds and 40.3 °F</dd>\\n</dl>\\n',\n",
       " '\\n<dl>\\n<dt>Hotel Name</dt><dd>nan</dd>\\n<dt>City</dt><dd>Comarapa</dd>\\n<dt>Country</dt><dd>BO</dd>\\n<dt>Current Weather</dt><dd>overcast clouds and 53.94 °F</dd>\\n</dl>\\n',\n",
       " '\\n<dl>\\n<dt>Hotel Name</dt><dd>Riverview Inn</dd>\\n<dt>City</dt><dd>Saint-Augustin</dd>\\n<dt>Country</dt><dd>CA</dd>\\n<dt>Current Weather</dt><dd>overcast clouds and 42.1 °F</dd>\\n</dl>\\n',\n",
       " '\\n<dl>\\n<dt>Hotel Name</dt><dd>Vardø Hotel AS</dd>\\n<dt>City</dt><dd>Vardo</dd>\\n<dt>Country</dt><dd>NO</dd>\\n<dt>Current Weather</dt><dd>overcast clouds and 40.98 °F</dd>\\n</dl>\\n',\n",
       " '\\n<dl>\\n<dt>Hotel Name</dt><dd>Hostel Rus Muravlenko</dd>\\n<dt>City</dt><dd>Muravlenko</dd>\\n<dt>Country</dt><dd>RU</dd>\\n<dt>Current Weather</dt><dd>overcast clouds and 40.51 °F</dd>\\n</dl>\\n',\n",
       " '\\n<dl>\\n<dt>Hotel Name</dt><dd>nan</dd>\\n<dt>City</dt><dd>Mortka</dd>\\n<dt>Country</dt><dd>RU</dd>\\n<dt>Current Weather</dt><dd>overcast clouds and 50.34 °F</dd>\\n</dl>\\n',\n",
       " '\\n<dl>\\n<dt>Hotel Name</dt><dd>Codrington Gardens Bed And Breakfast</dd>\\n<dt>City</dt><dd>Codrington</dd>\\n<dt>Country</dt><dd>AU</dd>\\n<dt>Current Weather</dt><dd>overcast clouds and 53.87 °F</dd>\\n</dl>\\n',\n",
       " '\\n<dl>\\n<dt>Hotel Name</dt><dd>Lymina</dd>\\n<dt>City</dt><dd>Plouzane</dd>\\n<dt>Country</dt><dd>FR</dd>\\n<dt>Current Weather</dt><dd>overcast clouds and 55.72 °F</dd>\\n</dl>\\n',\n",
       " '\\n<dl>\\n<dt>Hotel Name</dt><dd>Spa-Hotel PLAZA</dd>\\n<dt>City</dt><dd>Michurinsk</dd>\\n<dt>Country</dt><dd>RU</dd>\\n<dt>Current Weather</dt><dd>overcast clouds and 50.63 °F</dd>\\n</dl>\\n',\n",
       " '\\n<dl>\\n<dt>Hotel Name</dt><dd>LÜDERITZ NEST HOTEL</dd>\\n<dt>City</dt><dd>Luderitz</dd>\\n<dt>Country</dt><dd>nan</dd>\\n<dt>Current Weather</dt><dd>overcast clouds and 55.17 °F</dd>\\n</dl>\\n',\n",
       " '\\n<dl>\\n<dt>Hotel Name</dt><dd>nan</dd>\\n<dt>City</dt><dd>Temnikov</dd>\\n<dt>Country</dt><dd>RU</dd>\\n<dt>Current Weather</dt><dd>overcast clouds and 50.49 °F</dd>\\n</dl>\\n',\n",
       " '\\n<dl>\\n<dt>Hotel Name</dt><dd>Гостеприимные квартиры на Ленина 40</dd>\\n<dt>City</dt><dd>Chaykovskiy</dd>\\n<dt>Country</dt><dd>RU</dd>\\n<dt>Current Weather</dt><dd>overcast clouds and 50.4 °F</dd>\\n</dl>\\n',\n",
       " '\\n<dl>\\n<dt>Hotel Name</dt><dd>Gostinitsa Salym</dd>\\n<dt>City</dt><dd>Salym</dd>\\n<dt>Country</dt><dd>RU</dd>\\n<dt>Current Weather</dt><dd>overcast clouds and 45.91 °F</dd>\\n</dl>\\n',\n",
       " '\\n<dl>\\n<dt>Hotel Name</dt><dd>Hostel on Pionerskaya 88</dd>\\n<dt>City</dt><dd>Chupa</dd>\\n<dt>Country</dt><dd>RU</dd>\\n<dt>Current Weather</dt><dd>overcast clouds and 41.81 °F</dd>\\n</dl>\\n',\n",
       " '\\n<dl>\\n<dt>Hotel Name</dt><dd>nan</dd>\\n<dt>City</dt><dd>Novoagansk</dd>\\n<dt>Country</dt><dd>RU</dd>\\n<dt>Current Weather</dt><dd>overcast clouds and 40.06 °F</dd>\\n</dl>\\n',\n",
       " '\\n<dl>\\n<dt>Hotel Name</dt><dd>Best Western Vetlanda Stadshotell</dd>\\n<dt>City</dt><dd>Vetlanda</dd>\\n<dt>Country</dt><dd>SE</dd>\\n<dt>Current Weather</dt><dd>overcast clouds and 41.16 °F</dd>\\n</dl>\\n',\n",
       " '\\n<dl>\\n<dt>Hotel Name</dt><dd>Gostinitsa \"Polar\"</dd>\\n<dt>City</dt><dd>Syumsi</dd>\\n<dt>Country</dt><dd>RU</dd>\\n<dt>Current Weather</dt><dd>overcast clouds and 48.97 °F</dd>\\n</dl>\\n',\n",
       " '\\n<dl>\\n<dt>Hotel Name</dt><dd>Hotel Renesans</dd>\\n<dt>City</dt><dd>Zamosc</dd>\\n<dt>Country</dt><dd>PL</dd>\\n<dt>Current Weather</dt><dd>overcast clouds and 47.28 °F</dd>\\n</dl>\\n',\n",
       " '\\n<dl>\\n<dt>Hotel Name</dt><dd>Diego De Almagro Coyhaique</dd>\\n<dt>City</dt><dd>Coihaique</dd>\\n<dt>Country</dt><dd>CL</dd>\\n<dt>Current Weather</dt><dd>overcast clouds and 43.03 °F</dd>\\n</dl>\\n',\n",
       " '\\n<dl>\\n<dt>Hotel Name</dt><dd>Diana</dd>\\n<dt>City</dt><dd>Atasu</dd>\\n<dt>Country</dt><dd>KZ</dd>\\n<dt>Current Weather</dt><dd>overcast clouds and 46.47 °F</dd>\\n</dl>\\n',\n",
       " '\\n<dl>\\n<dt>Hotel Name</dt><dd>nan</dd>\\n<dt>City</dt><dd>Hofn</dd>\\n<dt>Country</dt><dd>IS</dd>\\n<dt>Current Weather</dt><dd>overcast clouds and 47.01 °F</dd>\\n</dl>\\n',\n",
       " '\\n<dl>\\n<dt>Hotel Name</dt><dd>Kfkh \"Ivanov S. M.\"</dd>\\n<dt>City</dt><dd>Yarkovo</dd>\\n<dt>Country</dt><dd>RU</dd>\\n<dt>Current Weather</dt><dd>overcast clouds and 47.62 °F</dd>\\n</dl>\\n',\n",
       " '\\n<dl>\\n<dt>Hotel Name</dt><dd>Gostinitsa Nur-Ordo</dd>\\n<dt>City</dt><dd>Kyzyl-Suu</dd>\\n<dt>Country</dt><dd>KG</dd>\\n<dt>Current Weather</dt><dd>overcast clouds and 51.24 °F</dd>\\n</dl>\\n',\n",
       " '\\n<dl>\\n<dt>Hotel Name</dt><dd>Sweet Sharons bnb</dd>\\n<dt>City</dt><dd>Bonavista</dd>\\n<dt>Country</dt><dd>CA</dd>\\n<dt>Current Weather</dt><dd>overcast clouds and 45.09 °F</dd>\\n</dl>\\n',\n",
       " '\\n<dl>\\n<dt>Hotel Name</dt><dd>Bolkhovskaya Starina</dd>\\n<dt>City</dt><dd>Bolkhov</dd>\\n<dt>Country</dt><dd>RU</dd>\\n<dt>Current Weather</dt><dd>overcast clouds and 43.27 °F</dd>\\n</dl>\\n',\n",
       " '\\n<dl>\\n<dt>Hotel Name</dt><dd>Hotel am Schlosspark</dd>\\n<dt>City</dt><dd>Gotha</dd>\\n<dt>Country</dt><dd>DE</dd>\\n<dt>Current Weather</dt><dd>overcast clouds and 49.14 °F</dd>\\n</dl>\\n',\n",
       " '\\n<dl>\\n<dt>Hotel Name</dt><dd>Thon Hotels Storgata</dd>\\n<dt>City</dt><dd>Kristiansund</dd>\\n<dt>Country</dt><dd>NO</dd>\\n<dt>Current Weather</dt><dd>overcast clouds and 50.65 °F</dd>\\n</dl>\\n',\n",
       " '\\n<dl>\\n<dt>Hotel Name</dt><dd>Gostinitsa-Kafe, Alena</dd>\\n<dt>City</dt><dd>Svetlyy</dd>\\n<dt>Country</dt><dd>RU</dd>\\n<dt>Current Weather</dt><dd>overcast clouds and 55.45 °F</dd>\\n</dl>\\n',\n",
       " '\\n<dl>\\n<dt>Hotel Name</dt><dd>Hotel Klaus im Weinviertel</dd>\\n<dt>City</dt><dd>Wolkersdorf</dd>\\n<dt>Country</dt><dd>AT</dd>\\n<dt>Current Weather</dt><dd>overcast clouds and 54.75 °F</dd>\\n</dl>\\n',\n",
       " '\\n<dl>\\n<dt>Hotel Name</dt><dd>nan</dd>\\n<dt>City</dt><dd>Barzas</dd>\\n<dt>Country</dt><dd>RU</dd>\\n<dt>Current Weather</dt><dd>overcast clouds and 42.62 °F</dd>\\n</dl>\\n',\n",
       " '\\n<dl>\\n<dt>Hotel Name</dt><dd>nan</dd>\\n<dt>City</dt><dd>Panjab</dd>\\n<dt>Country</dt><dd>AF</dd>\\n<dt>Current Weather</dt><dd>overcast clouds and 53.69 °F</dd>\\n</dl>\\n',\n",
       " '\\n<dl>\\n<dt>Hotel Name</dt><dd>Radisson Blu Hotel, Tromsø</dd>\\n<dt>City</dt><dd>Tromso</dd>\\n<dt>Country</dt><dd>NO</dd>\\n<dt>Current Weather</dt><dd>overcast clouds and 40.37 °F</dd>\\n</dl>\\n',\n",
       " '\\n<dl>\\n<dt>Hotel Name</dt><dd>Around the world</dd>\\n<dt>City</dt><dd>Ilinskiy</dd>\\n<dt>Country</dt><dd>RU</dd>\\n<dt>Current Weather</dt><dd>overcast clouds and 50.52 °F</dd>\\n</dl>\\n',\n",
       " '\\n<dl>\\n<dt>Hotel Name</dt><dd>Avista Resort</dd>\\n<dt>City</dt><dd>North Myrtle Beach</dd>\\n<dt>Country</dt><dd>US</dd>\\n<dt>Current Weather</dt><dd>overcast clouds and 54.37 °F</dd>\\n</dl>\\n',\n",
       " '\\n<dl>\\n<dt>Hotel Name</dt><dd>Harmony Inn</dd>\\n<dt>City</dt><dd>Goderich</dd>\\n<dt>Country</dt><dd>CA</dd>\\n<dt>Current Weather</dt><dd>overcast clouds and 48.7 °F</dd>\\n</dl>\\n',\n",
       " '\\n<dl>\\n<dt>Hotel Name</dt><dd>Park Hotel Calama</dd>\\n<dt>City</dt><dd>Calama</dd>\\n<dt>Country</dt><dd>CL</dd>\\n<dt>Current Weather</dt><dd>overcast clouds and 50.0 °F</dd>\\n</dl>\\n',\n",
       " '\\n<dl>\\n<dt>Hotel Name</dt><dd>Holiday Inn Express Adrian, an IHG Hotel</dd>\\n<dt>City</dt><dd>Adrian</dd>\\n<dt>Country</dt><dd>US</dd>\\n<dt>Current Weather</dt><dd>overcast clouds and 42.44 °F</dd>\\n</dl>\\n',\n",
       " '\\n<dl>\\n<dt>Hotel Name</dt><dd>Nordre Silda.</dd>\\n<dt>City</dt><dd>Raudeberg</dd>\\n<dt>Country</dt><dd>NO</dd>\\n<dt>Current Weather</dt><dd>overcast clouds and 53.96 °F</dd>\\n</dl>\\n',\n",
       " '\\n<dl>\\n<dt>Hotel Name</dt><dd>nan</dd>\\n<dt>City</dt><dd>Kamenka</dd>\\n<dt>Country</dt><dd>RU</dd>\\n<dt>Current Weather</dt><dd>overcast clouds and 52.9 °F</dd>\\n</dl>\\n',\n",
       " '\\n<dl>\\n<dt>Hotel Name</dt><dd>Skreda Rorbusuiter</dd>\\n<dt>City</dt><dd>Gravdal</dd>\\n<dt>Country</dt><dd>NO</dd>\\n<dt>Current Weather</dt><dd>overcast clouds and 48.09 °F</dd>\\n</dl>\\n',\n",
       " \"\\n<dl>\\n<dt>Hotel Name</dt><dd>Gostinitsa Tsentral'naya Kotel'nich</dd>\\n<dt>City</dt><dd>Kotelnich</dd>\\n<dt>Country</dt><dd>RU</dd>\\n<dt>Current Weather</dt><dd>overcast clouds and 50.88 °F</dd>\\n</dl>\\n\",\n",
       " '\\n<dl>\\n<dt>Hotel Name</dt><dd>Dom Aleksandry Samozvon</dd>\\n<dt>City</dt><dd>Gdov</dd>\\n<dt>Country</dt><dd>RU</dd>\\n<dt>Current Weather</dt><dd>overcast clouds and 45.48 °F</dd>\\n</dl>\\n',\n",
       " '\\n<dl>\\n<dt>Hotel Name</dt><dd>Hotel SJ</dd>\\n<dt>City</dt><dd>Mosquera</dd>\\n<dt>Country</dt><dd>CO</dd>\\n<dt>Current Weather</dt><dd>overcast clouds and 51.89 °F</dd>\\n</dl>\\n',\n",
       " '\\n<dl>\\n<dt>Hotel Name</dt><dd>Kinn Hotell Florø</dd>\\n<dt>City</dt><dd>Floro</dd>\\n<dt>Country</dt><dd>NO</dd>\\n<dt>Current Weather</dt><dd>overcast clouds and 54.97 °F</dd>\\n</dl>\\n',\n",
       " '\\n<dl>\\n<dt>Hotel Name</dt><dd>nan</dd>\\n<dt>City</dt><dd>Susanino</dd>\\n<dt>Country</dt><dd>RU</dd>\\n<dt>Current Weather</dt><dd>overcast clouds and 48.49 °F</dd>\\n</dl>\\n',\n",
       " '\\n<dl>\\n<dt>Hotel Name</dt><dd>Gostinitsa Neptun Tatarsk</dd>\\n<dt>City</dt><dd>Tatarsk</dd>\\n<dt>Country</dt><dd>RU</dd>\\n<dt>Current Weather</dt><dd>overcast clouds and 42.71 °F</dd>\\n</dl>\\n',\n",
       " '\\n<dl>\\n<dt>Hotel Name</dt><dd>Fishermans Guest House</dd>\\n<dt>City</dt><dd>Henties Bay</dd>\\n<dt>Country</dt><dd>nan</dd>\\n<dt>Current Weather</dt><dd>overcast clouds and 55.71 °F</dd>\\n</dl>\\n',\n",
       " '\\n<dl>\\n<dt>Hotel Name</dt><dd>Hotel Morotin</dd>\\n<dt>City</dt><dd>Santa Maria</dd>\\n<dt>Country</dt><dd>BR</dd>\\n<dt>Current Weather</dt><dd>overcast clouds and 48.88 °F</dd>\\n</dl>\\n',\n",
       " '\\n<dl>\\n<dt>Hotel Name</dt><dd>Grand Hotel Libertad - GHL</dd>\\n<dt>City</dt><dd>Nueve De Julio</dd>\\n<dt>Country</dt><dd>AR</dd>\\n<dt>Current Weather</dt><dd>overcast clouds and 47.97 °F</dd>\\n</dl>\\n',\n",
       " '\\n<dl>\\n<dt>Hotel Name</dt><dd>Torget Hotell</dd>\\n<dt>City</dt><dd>Maloy</dd>\\n<dt>Country</dt><dd>NO</dd>\\n<dt>Current Weather</dt><dd>overcast clouds and 54.73 °F</dd>\\n</dl>\\n',\n",
       " '\\n<dl>\\n<dt>Hotel Name</dt><dd>Ted McQuinn Trust</dd>\\n<dt>City</dt><dd>Bud</dd>\\n<dt>Country</dt><dd>US</dd>\\n<dt>Current Weather</dt><dd>overcast clouds and 51.98 °F</dd>\\n</dl>\\n',\n",
       " '\\n<dl>\\n<dt>Hotel Name</dt><dd>Welgewandel Guesthouse</dd>\\n<dt>City</dt><dd>Kimberley</dd>\\n<dt>Country</dt><dd>ZA</dd>\\n<dt>Current Weather</dt><dd>overcast clouds and 55.09 °F</dd>\\n</dl>\\n',\n",
       " '\\n<dl>\\n<dt>Hotel Name</dt><dd>Glamping & Camping</dd>\\n<dt>City</dt><dd>Vestmannaeyjar</dd>\\n<dt>Country</dt><dd>IS</dd>\\n<dt>Current Weather</dt><dd>overcast clouds and 49.44 °F</dd>\\n</dl>\\n',\n",
       " '\\n<dl>\\n<dt>Hotel Name</dt><dd>Bhelekazi Guesthouse</dd>\\n<dt>City</dt><dd>Colesberg</dd>\\n<dt>Country</dt><dd>ZA</dd>\\n<dt>Current Weather</dt><dd>overcast clouds and 53.31 °F</dd>\\n</dl>\\n',\n",
       " \"\\n<dl>\\n<dt>Hotel Name</dt><dd>Northern Light Inn & Max's Restaurant</dd>\\n<dt>City</dt><dd>Grindavik</dd>\\n<dt>Country</dt><dd>IS</dd>\\n<dt>Current Weather</dt><dd>overcast clouds and 46.87 °F</dd>\\n</dl>\\n\",\n",
       " '\\n<dl>\\n<dt>Hotel Name</dt><dd>Hotel \"Austėja\"</dd>\\n<dt>City</dt><dd>Palanga</dd>\\n<dt>Country</dt><dd>LT</dd>\\n<dt>Current Weather</dt><dd>overcast clouds and 53.62 °F</dd>\\n</dl>\\n',\n",
       " '\\n<dl>\\n<dt>Hotel Name</dt><dd>Prolesok Mini-hotel</dd>\\n<dt>City</dt><dd>Oktyabrskoye</dd>\\n<dt>Country</dt><dd>RU</dd>\\n<dt>Current Weather</dt><dd>overcast clouds and 51.94 °F</dd>\\n</dl>\\n',\n",
       " '\\n<dl>\\n<dt>Hotel Name</dt><dd>Semeynyy Khostel \"Mamin Uyut\"</dd>\\n<dt>City</dt><dd>Semibratovo</dd>\\n<dt>Country</dt><dd>RU</dd>\\n<dt>Current Weather</dt><dd>overcast clouds and 48.06 °F</dd>\\n</dl>\\n',\n",
       " '\\n<dl>\\n<dt>Hotel Name</dt><dd>Za lu pa</dd>\\n<dt>City</dt><dd>Chudniv</dd>\\n<dt>Country</dt><dd>UA</dd>\\n<dt>Current Weather</dt><dd>overcast clouds and 45.77 °F</dd>\\n</dl>\\n',\n",
       " '\\n<dl>\\n<dt>Hotel Name</dt><dd>Busta House Hotel</dd>\\n<dt>City</dt><dd>Brae</dd>\\n<dt>Country</dt><dd>GB</dd>\\n<dt>Current Weather</dt><dd>overcast clouds and 55.58 °F</dd>\\n</dl>\\n',\n",
       " '\\n<dl>\\n<dt>Hotel Name</dt><dd>Arctic View Glamping & Restaurant</dd>\\n<dt>City</dt><dd>Havoysund</dd>\\n<dt>Country</dt><dd>NO</dd>\\n<dt>Current Weather</dt><dd>overcast clouds and 43.03 °F</dd>\\n</dl>\\n',\n",
       " '\\n<dl>\\n<dt>Hotel Name</dt><dd>iTravel Agency • Western Union</dd>\\n<dt>City</dt><dd>Gnjilane</dd>\\n<dt>Country</dt><dd>XK</dd>\\n<dt>Current Weather</dt><dd>overcast clouds and 45.59 °F</dd>\\n</dl>\\n',\n",
       " '\\n<dl>\\n<dt>Hotel Name</dt><dd>Campingplass Mo i Rana: Storli Camping</dd>\\n<dt>City</dt><dd>Storforshei</dd>\\n<dt>Country</dt><dd>NO</dd>\\n<dt>Current Weather</dt><dd>overcast clouds and 46.65 °F</dd>\\n</dl>\\n',\n",
       " '\\n<dl>\\n<dt>Hotel Name</dt><dd>Аренда жилья/Баня</dd>\\n<dt>City</dt><dd>Borovskoy</dd>\\n<dt>Country</dt><dd>KZ</dd>\\n<dt>Current Weather</dt><dd>overcast clouds and 47.23 °F</dd>\\n</dl>\\n',\n",
       " '\\n<dl>\\n<dt>Hotel Name</dt><dd>Gostinichnyy Kompleks Noy</dd>\\n<dt>City</dt><dd>Barabinsk</dd>\\n<dt>Country</dt><dd>RU</dd>\\n<dt>Current Weather</dt><dd>overcast clouds and 42.82 °F</dd>\\n</dl>\\n',\n",
       " '\\n<dl>\\n<dt>Hotel Name</dt><dd>Hotel Reserve</dd>\\n<dt>City</dt><dd>Knokke-Heist</dd>\\n<dt>Country</dt><dd>BE</dd>\\n<dt>Current Weather</dt><dd>overcast clouds and 52.02 °F</dd>\\n</dl>\\n',\n",
       " '\\n<dl>\\n<dt>Hotel Name</dt><dd>The Bridges Inn at Whitcomb House</dd>\\n<dt>City</dt><dd>Swanzey</dd>\\n<dt>Country</dt><dd>US</dd>\\n<dt>Current Weather</dt><dd>overcast clouds and 46.85 °F</dd>\\n</dl>\\n',\n",
       " '\\n<dl>\\n<dt>Hotel Name</dt><dd>Гостевой домик \"Deutscher Hof\"</dd>\\n<dt>City</dt><dd>Galbshtadt</dd>\\n<dt>Country</dt><dd>RU</dd>\\n<dt>Current Weather</dt><dd>overcast clouds and 43.25 °F</dd>\\n</dl>\\n',\n",
       " '\\n<dl>\\n<dt>Hotel Name</dt><dd>Fosshótel Stykkishólmur</dd>\\n<dt>City</dt><dd>Stykkisholmur</dd>\\n<dt>Country</dt><dd>IS</dd>\\n<dt>Current Weather</dt><dd>overcast clouds and 44.4 °F</dd>\\n</dl>\\n',\n",
       " '\\n<dl>\\n<dt>Hotel Name</dt><dd>Comfort Inn</dd>\\n<dt>City</dt><dd>Sept-Iles</dd>\\n<dt>Country</dt><dd>CA</dd>\\n<dt>Current Weather</dt><dd>overcast clouds and 44.6 °F</dd>\\n</dl>\\n',\n",
       " '\\n<dl>\\n<dt>Hotel Name</dt><dd>Orifleym</dd>\\n<dt>City</dt><dd>Shakhtinsk</dd>\\n<dt>Country</dt><dd>KZ</dd>\\n<dt>Current Weather</dt><dd>overcast clouds and 44.73 °F</dd>\\n</dl>\\n',\n",
       " '\\n<dl>\\n<dt>Hotel Name</dt><dd>Squad Paintball</dd>\\n<dt>City</dt><dd>Maglajani</dd>\\n<dt>Country</dt><dd>BA</dd>\\n<dt>Current Weather</dt><dd>overcast clouds and 46.42 °F</dd>\\n</dl>\\n',\n",
       " '\\n<dl>\\n<dt>Hotel Name</dt><dd>Lighthouse Inn On Lake Michigan</dd>\\n<dt>City</dt><dd>Two Rivers</dd>\\n<dt>Country</dt><dd>US</dd>\\n<dt>Current Weather</dt><dd>overcast clouds and 51.98 °F</dd>\\n</dl>\\n',\n",
       " '\\n<dl>\\n<dt>Hotel Name</dt><dd>coastal Hotel</dd>\\n<dt>City</dt><dd>Bereznik</dd>\\n<dt>Country</dt><dd>RU</dd>\\n<dt>Current Weather</dt><dd>overcast clouds and 50.14 °F</dd>\\n</dl>\\n',\n",
       " '\\n<dl>\\n<dt>Hotel Name</dt><dd>Bjarnabúð</dd>\\n<dt>City</dt><dd>Husavik</dd>\\n<dt>Country</dt><dd>IS</dd>\\n<dt>Current Weather</dt><dd>overcast clouds and 44.46 °F</dd>\\n</dl>\\n',\n",
       " '\\n<dl>\\n<dt>Hotel Name</dt><dd>Hotel Olafsvik</dd>\\n<dt>City</dt><dd>Olafsvik</dd>\\n<dt>Country</dt><dd>IS</dd>\\n<dt>Current Weather</dt><dd>overcast clouds and 45.48 °F</dd>\\n</dl>\\n',\n",
       " '\\n<dl>\\n<dt>Hotel Name</dt><dd>Pazo de Verdes</dd>\\n<dt>City</dt><dd>Bereda</dd>\\n<dt>Country</dt><dd>ES</dd>\\n<dt>Current Weather</dt><dd>overcast clouds and 54.41 °F</dd>\\n</dl>\\n',\n",
       " '\\n<dl>\\n<dt>Hotel Name</dt><dd>Casa - Hostal</dd>\\n<dt>City</dt><dd>Samaipata</dd>\\n<dt>Country</dt><dd>BO</dd>\\n<dt>Current Weather</dt><dd>overcast clouds and 53.73 °F</dd>\\n</dl>\\n',\n",
       " '\\n<dl>\\n<dt>Hotel Name</dt><dd>Hôtel Énergie Shawinigan</dd>\\n<dt>City</dt><dd>Shawinigan</dd>\\n<dt>Country</dt><dd>CA</dd>\\n<dt>Current Weather</dt><dd>overcast clouds and 46.81 °F</dd>\\n</dl>\\n',\n",
       " '\\n<dl>\\n<dt>Hotel Name</dt><dd>Best Western Plus Hopewell Fort Lee</dd>\\n<dt>City</dt><dd>Hopewell</dd>\\n<dt>Country</dt><dd>US</dd>\\n<dt>Current Weather</dt><dd>overcast clouds and 48.88 °F</dd>\\n</dl>\\n',\n",
       " '\\n<dl>\\n<dt>Hotel Name</dt><dd>Hotel Burghof</dd>\\n<dt>City</dt><dd>Hof</dd>\\n<dt>Country</dt><dd>DE</dd>\\n<dt>Current Weather</dt><dd>overcast clouds and 46.49 °F</dd>\\n</dl>\\n',\n",
       " '\\n<dl>\\n<dt>Hotel Name</dt><dd>Six Acres Bed & Breakfast</dd>\\n<dt>City</dt><dd>Hamilton</dd>\\n<dt>Country</dt><dd>US</dd>\\n<dt>Current Weather</dt><dd>overcast clouds and 53.89 °F</dd>\\n</dl>\\n',\n",
       " '\\n<dl>\\n<dt>Hotel Name</dt><dd>Bodenseehotel Lindau</dd>\\n<dt>City</dt><dd>Horbranz</dd>\\n<dt>Country</dt><dd>AT</dd>\\n<dt>Current Weather</dt><dd>overcast clouds and 49.12 °F</dd>\\n</dl>\\n',\n",
       " '\\n<dl>\\n<dt>Hotel Name</dt><dd>The Grand Hotel Scarborough</dd>\\n<dt>City</dt><dd>Scarborough</dd>\\n<dt>Country</dt><dd>GB</dd>\\n<dt>Current Weather</dt><dd>overcast clouds and 55.92 °F</dd>\\n</dl>\\n',\n",
       " '\\n<dl>\\n<dt>Hotel Name</dt><dd>Brusand Camping</dd>\\n<dt>City</dt><dd>Vigrestad</dd>\\n<dt>Country</dt><dd>NO</dd>\\n<dt>Current Weather</dt><dd>overcast clouds and 55.08 °F</dd>\\n</dl>\\n',\n",
       " '\\n<dl>\\n<dt>Hotel Name</dt><dd>gîte et chambres d\\'hôtes\" Le Manoir Enchanté\" de Mme Doumayrou</dd>\\n<dt>City</dt><dd>Clermont</dd>\\n<dt>Country</dt><dd>FR</dd>\\n<dt>Current Weather</dt><dd>overcast clouds and 43.72 °F</dd>\\n</dl>\\n',\n",
       " '\\n<dl>\\n<dt>Hotel Name</dt><dd>nan</dd>\\n<dt>City</dt><dd>Yurginskoye</dd>\\n<dt>Country</dt><dd>RU</dd>\\n<dt>Current Weather</dt><dd>overcast clouds and 44.08 °F</dd>\\n</dl>\\n',\n",
       " '\\n<dl>\\n<dt>Hotel Name</dt><dd>Pivarootsi Holiday Village</dd>\\n<dt>City</dt><dd>Virtsu</dd>\\n<dt>Country</dt><dd>EE</dd>\\n<dt>Current Weather</dt><dd>overcast clouds and 46.98 °F</dd>\\n</dl>\\n',\n",
       " '\\n<dl>\\n<dt>Hotel Name</dt><dd>Hotel Den Helder</dd>\\n<dt>City</dt><dd>Den Helder</dd>\\n<dt>Country</dt><dd>NL</dd>\\n<dt>Current Weather</dt><dd>overcast clouds and 55.38 °F</dd>\\n</dl>\\n',\n",
       " \"\\n<dl>\\n<dt>Hotel Name</dt><dd>The Fisherman's Cove</dd>\\n<dt>City</dt><dd>Oranjemund</dd>\\n<dt>Country</dt><dd>nan</dd>\\n<dt>Current Weather</dt><dd>overcast clouds and 54.9 °F</dd>\\n</dl>\\n\",\n",
       " '\\n<dl>\\n<dt>Hotel Name</dt><dd>nan</dd>\\n<dt>City</dt><dd>Shalakusha</dd>\\n<dt>Country</dt><dd>RU</dd>\\n<dt>Current Weather</dt><dd>overcast clouds and 45.91 °F</dd>\\n</dl>\\n',\n",
       " '\\n<dl>\\n<dt>Hotel Name</dt><dd>River Place Manor</dd>\\n<dt>City</dt><dd>Upington</dd>\\n<dt>Country</dt><dd>ZA</dd>\\n<dt>Current Weather</dt><dd>overcast clouds and 52.18 °F</dd>\\n</dl>\\n',\n",
       " '\\n<dl>\\n<dt>Hotel Name</dt><dd>DeKat Self Catering</dd>\\n<dt>City</dt><dd>Burgersdorp</dd>\\n<dt>Country</dt><dd>ZA</dd>\\n<dt>Current Weather</dt><dd>overcast clouds and 55.24 °F</dd>\\n</dl>\\n',\n",
       " '\\n<dl>\\n<dt>Hotel Name</dt><dd>Country House in Podstepki</dd>\\n<dt>City</dt><dd>Podstepki</dd>\\n<dt>Country</dt><dd>RU</dd>\\n<dt>Current Weather</dt><dd>overcast clouds and 54.28 °F</dd>\\n</dl>\\n',\n",
       " '\\n<dl>\\n<dt>Hotel Name</dt><dd>Waldhotel zum Bergsee Damme</dd>\\n<dt>City</dt><dd>Damme</dd>\\n<dt>Country</dt><dd>DE</dd>\\n<dt>Current Weather</dt><dd>overcast clouds and 51.76 °F</dd>\\n</dl>\\n',\n",
       " '\\n<dl>\\n<dt>Hotel Name</dt><dd>Gostinitsa</dd>\\n<dt>City</dt><dd>Muzhi</dd>\\n<dt>Country</dt><dd>RU</dd>\\n<dt>Current Weather</dt><dd>overcast clouds and 41.11 °F</dd>\\n</dl>\\n',\n",
       " '\\n<dl>\\n<dt>Hotel Name</dt><dd>Pension Feldgärtenhof</dd>\\n<dt>City</dt><dd>Lasa</dd>\\n<dt>Country</dt><dd>IT</dd>\\n<dt>Current Weather</dt><dd>overcast clouds and 50.88 °F</dd>\\n</dl>\\n',\n",
       " '\\n<dl>\\n<dt>Hotel Name</dt><dd>Die Lemoenhuis</dd>\\n<dt>City</dt><dd>Calvinia</dd>\\n<dt>Country</dt><dd>ZA</dd>\\n<dt>Current Weather</dt><dd>overcast clouds and 46.85 °F</dd>\\n</dl>\\n',\n",
       " '\\n<dl>\\n<dt>Hotel Name</dt><dd>nan</dd>\\n<dt>City</dt><dd>Kizema</dd>\\n<dt>Country</dt><dd>RU</dd>\\n<dt>Current Weather</dt><dd>overcast clouds and 49.89 °F</dd>\\n</dl>\\n',\n",
       " \"\\n<dl>\\n<dt>Hotel Name</dt><dd>Maison Vin d'Hus</dd>\\n<dt>City</dt><dd>Saint-Francois</dd>\\n<dt>Country</dt><dd>FR</dd>\\n<dt>Current Weather</dt><dd>overcast clouds and 42.24 °F</dd>\\n</dl>\\n\",\n",
       " '\\n<dl>\\n<dt>Hotel Name</dt><dd>dyd -mar Hotel</dd>\\n<dt>City</dt><dd>Necochea</dd>\\n<dt>Country</dt><dd>AR</dd>\\n<dt>Current Weather</dt><dd>overcast clouds and 43.23 °F</dd>\\n</dl>\\n',\n",
       " '\\n<dl>\\n<dt>Hotel Name</dt><dd>Sherwood Motel</dd>\\n<dt>City</dt><dd>Havelock</dd>\\n<dt>Country</dt><dd>US</dd>\\n<dt>Current Weather</dt><dd>overcast clouds and 53.92 °F</dd>\\n</dl>\\n',\n",
       " '\\n<dl>\\n<dt>Hotel Name</dt><dd>Pryalitsa Hostel</dd>\\n<dt>City</dt><dd>Leshukonskoye</dd>\\n<dt>Country</dt><dd>RU</dd>\\n<dt>Current Weather</dt><dd>overcast clouds and 40.3 °F</dd>\\n</dl>\\n',\n",
       " '\\n<dl>\\n<dt>Hotel Name</dt><dd>Residencial Karime</dd>\\n<dt>City</dt><dd>Taltal</dd>\\n<dt>Country</dt><dd>CL</dd>\\n<dt>Current Weather</dt><dd>overcast clouds and 55.33 °F</dd>\\n</dl>\\n',\n",
       " '\\n<dl>\\n<dt>Hotel Name</dt><dd>nan</dd>\\n<dt>City</dt><dd>Gus-Zheleznyy</dd>\\n<dt>Country</dt><dd>RU</dd>\\n<dt>Current Weather</dt><dd>overcast clouds and 46.54 °F</dd>\\n</dl>\\n',\n",
       " '\\n<dl>\\n<dt>Hotel Name</dt><dd>The Retreat at the Farm</dd>\\n<dt>City</dt><dd>Shelburne</dd>\\n<dt>Country</dt><dd>CA</dd>\\n<dt>Current Weather</dt><dd>overcast clouds and 44.6 °F</dd>\\n</dl>\\n',\n",
       " '\\n<dl>\\n<dt>Hotel Name</dt><dd>Смт олександрівка</dd>\\n<dt>City</dt><dd>Oleksandrivka</dd>\\n<dt>Country</dt><dd>UA</dd>\\n<dt>Current Weather</dt><dd>overcast clouds and 48.51 °F</dd>\\n</dl>\\n',\n",
       " '\\n<dl>\\n<dt>Hotel Name</dt><dd>nan</dd>\\n<dt>City</dt><dd>Honningsvag</dd>\\n<dt>Country</dt><dd>NO</dd>\\n<dt>Current Weather</dt><dd>overcast clouds and 42.55 °F</dd>\\n</dl>\\n',\n",
       " '\\n<dl>\\n<dt>Hotel Name</dt><dd>Logis Hôtel les Gravades</dd>\\n<dt>City</dt><dd>Ussel</dd>\\n<dt>Country</dt><dd>FR</dd>\\n<dt>Current Weather</dt><dd>overcast clouds and 45.79 °F</dd>\\n</dl>\\n',\n",
       " '\\n<dl>\\n<dt>Hotel Name</dt><dd>Niva</dd>\\n<dt>City</dt><dd>Uyskoye</dd>\\n<dt>Country</dt><dd>RU</dd>\\n<dt>Current Weather</dt><dd>overcast clouds and 48.78 °F</dd>\\n</dl>\\n',\n",
       " '\\n<dl>\\n<dt>Hotel Name</dt><dd>Hôtel Opémiska</dd>\\n<dt>City</dt><dd>Chapais</dd>\\n<dt>Country</dt><dd>CA</dd>\\n<dt>Current Weather</dt><dd>overcast clouds and 44.38 °F</dd>\\n</dl>\\n',\n",
       " '\\n<dl>\\n<dt>Hotel Name</dt><dd>Hostal de la Sierra Tandil</dd>\\n<dt>City</dt><dd>Tandil</dd>\\n<dt>Country</dt><dd>AR</dd>\\n<dt>Current Weather</dt><dd>overcast clouds and 46.69 °F</dd>\\n</dl>\\n',\n",
       " '\\n<dl>\\n<dt>Hotel Name</dt><dd>Morgantown Marriott at Waterfront Place</dd>\\n<dt>City</dt><dd>Morgantown</dd>\\n<dt>Country</dt><dd>US</dd>\\n<dt>Current Weather</dt><dd>overcast clouds and 47.25 °F</dd>\\n</dl>\\n',\n",
       " '\\n<dl>\\n<dt>Hotel Name</dt><dd>Hostel Karpacki</dd>\\n<dt>City</dt><dd>Ustrzyki Dolne</dd>\\n<dt>Country</dt><dd>PL</dd>\\n<dt>Current Weather</dt><dd>overcast clouds and 45.99 °F</dd>\\n</dl>\\n',\n",
       " '\\n<dl>\\n<dt>Hotel Name</dt><dd>Country Inn & Suites by Radisson, Green Bay North, WI</dd>\\n<dt>City</dt><dd>Suamico</dd>\\n<dt>Country</dt><dd>US</dd>\\n<dt>Current Weather</dt><dd>overcast clouds and 50.14 °F</dd>\\n</dl>\\n',\n",
       " '\\n<dl>\\n<dt>Hotel Name</dt><dd>Terra e Brisa</dd>\\n<dt>City</dt><dd>Ipanema</dd>\\n<dt>Country</dt><dd>BR</dd>\\n<dt>Current Weather</dt><dd>overcast clouds and 55.38 °F</dd>\\n</dl>\\n',\n",
       " '\\n<dl>\\n<dt>Hotel Name</dt><dd>Hostel</dd>\\n<dt>City</dt><dd>Gornopravdinsk</dd>\\n<dt>Country</dt><dd>RU</dd>\\n<dt>Current Weather</dt><dd>overcast clouds and 48.16 °F</dd>\\n</dl>\\n',\n",
       " '\\n<dl>\\n<dt>Hotel Name</dt><dd>Gostinitsa \"Uyut\"</dd>\\n<dt>City</dt><dd>Staroaleyskoye</dd>\\n<dt>Country</dt><dd>RU</dd>\\n<dt>Current Weather</dt><dd>overcast clouds and 45.88 °F</dd>\\n</dl>\\n',\n",
       " '\\n<dl>\\n<dt>Hotel Name</dt><dd>Гостиница Центральная</dd>\\n<dt>City</dt><dd>Kiyasovo</dd>\\n<dt>Country</dt><dd>RU</dd>\\n<dt>Current Weather</dt><dd>overcast clouds and 49.44 °F</dd>\\n</dl>\\n',\n",
       " '\\n<dl>\\n<dt>Hotel Name</dt><dd>Hostal Caulle</dd>\\n<dt>City</dt><dd>Rio Bueno</dd>\\n<dt>Country</dt><dd>CL</dd>\\n<dt>Current Weather</dt><dd>overcast clouds and 51.94 °F</dd>\\n</dl>\\n',\n",
       " '\\n<dl>\\n<dt>Hotel Name</dt><dd>nan</dd>\\n<dt>City</dt><dd>Iglino</dd>\\n<dt>Country</dt><dd>RU</dd>\\n<dt>Current Weather</dt><dd>overcast clouds and 46.49 °F</dd>\\n</dl>\\n',\n",
       " '\\n<dl>\\n<dt>Hotel Name</dt><dd>Tuinhuis</dd>\\n<dt>City</dt><dd>Winsum</dd>\\n<dt>Country</dt><dd>NL</dd>\\n<dt>Current Weather</dt><dd>overcast clouds and 52.97 °F</dd>\\n</dl>\\n',\n",
       " '\\n<dl>\\n<dt>Hotel Name</dt><dd>nan</dd>\\n<dt>City</dt><dd>Ous</dd>\\n<dt>Country</dt><dd>RU</dd>\\n<dt>Current Weather</dt><dd>overcast clouds and 52.3 °F</dd>\\n</dl>\\n',\n",
       " '\\n<dl>\\n<dt>Hotel Name</dt><dd>nan</dd>\\n<dt>City</dt><dd>Polunochnoye</dd>\\n<dt>Country</dt><dd>RU</dd>\\n<dt>Current Weather</dt><dd>overcast clouds and 50.38 °F</dd>\\n</dl>\\n',\n",
       " '\\n<dl>\\n<dt>Hotel Name</dt><dd>Apartment on Kievskaya 29</dd>\\n<dt>City</dt><dd>Sovetskiy</dd>\\n<dt>Country</dt><dd>RU</dd>\\n<dt>Current Weather</dt><dd>overcast clouds and 46.89 °F</dd>\\n</dl>\\n',\n",
       " '\\n<dl>\\n<dt>Hotel Name</dt><dd>Hostel Agat</dd>\\n<dt>City</dt><dd>Naryan-Mar</dd>\\n<dt>Country</dt><dd>RU</dd>\\n<dt>Current Weather</dt><dd>overcast clouds and 40.75 °F</dd>\\n</dl>\\n',\n",
       " '\\n<dl>\\n<dt>Hotel Name</dt><dd>nan</dd>\\n<dt>City</dt><dd>Srednyaya Yelyuzan</dd>\\n<dt>Country</dt><dd>RU</dd>\\n<dt>Current Weather</dt><dd>overcast clouds and 53.49 °F</dd>\\n</dl>\\n',\n",
       " '\\n<dl>\\n<dt>Hotel Name</dt><dd>Hotel Santa Cristina</dd>\\n<dt>City</dt><dd>Durazno</dd>\\n<dt>Country</dt><dd>UY</dd>\\n<dt>Current Weather</dt><dd>overcast clouds and 41.25 °F</dd>\\n</dl>\\n',\n",
       " '\\n<dl>\\n<dt>Hotel Name</dt><dd>Hotel Ultramar</dd>\\n<dt>City</dt><dd>Valparaiso</dd>\\n<dt>Country</dt><dd>CL</dd>\\n<dt>Current Weather</dt><dd>overcast clouds and 49.64 °F</dd>\\n</dl>\\n',\n",
       " '\\n<dl>\\n<dt>Hotel Name</dt><dd>Bed&Breakfast Lageland</dd>\\n<dt>City</dt><dd>Groningen</dd>\\n<dt>Country</dt><dd>NL</dd>\\n<dt>Current Weather</dt><dd>overcast clouds and 53.04 °F</dd>\\n</dl>\\n',\n",
       " '\\n<dl>\\n<dt>Hotel Name</dt><dd>Reisafjord Hotel AS</dd>\\n<dt>City</dt><dd>Sorkjosen</dd>\\n<dt>Country</dt><dd>NO</dd>\\n<dt>Current Weather</dt><dd>overcast clouds and 42.8 °F</dd>\\n</dl>\\n',\n",
       " '\\n<dl>\\n<dt>Hotel Name</dt><dd>Hotel Verdesole</dd>\\n<dt>City</dt><dd>Soto</dd>\\n<dt>Country</dt><dd>AR</dd>\\n<dt>Current Weather</dt><dd>overcast clouds and 51.04 °F</dd>\\n</dl>\\n',\n",
       " '\\n<dl>\\n<dt>Hotel Name</dt><dd>Obshchezhitiye Uchebno-Proizvodstvennogo Tsentra</dd>\\n<dt>City</dt><dd>Igrim</dd>\\n<dt>Country</dt><dd>RU</dd>\\n<dt>Current Weather</dt><dd>overcast clouds and 44.92 °F</dd>\\n</dl>\\n',\n",
       " '\\n<dl>\\n<dt>Hotel Name</dt><dd>nan</dd>\\n<dt>City</dt><dd>Rochegda</dd>\\n<dt>Country</dt><dd>RU</dd>\\n<dt>Current Weather</dt><dd>overcast clouds and 53.29 °F</dd>\\n</dl>\\n',\n",
       " '\\n<dl>\\n<dt>Hotel Name</dt><dd>nan</dd>\\n<dt>City</dt><dd>Senno</dd>\\n<dt>Country</dt><dd>RU</dd>\\n<dt>Current Weather</dt><dd>overcast clouds and 48.25 °F</dd>\\n</dl>\\n',\n",
       " '\\n<dl>\\n<dt>Hotel Name</dt><dd>Apart Hotel - Arianos</dd>\\n<dt>City</dt><dd>Dolores</dd>\\n<dt>Country</dt><dd>AR</dd>\\n<dt>Current Weather</dt><dd>overcast clouds and 43.41 °F</dd>\\n</dl>\\n',\n",
       " '\\n<dl>\\n<dt>Hotel Name</dt><dd>nan</dd>\\n<dt>City</dt><dd>Kozlovo</dd>\\n<dt>Country</dt><dd>RU</dd>\\n<dt>Current Weather</dt><dd>overcast clouds and 49.73 °F</dd>\\n</dl>\\n']"
      ]
     },
     "execution_count": 44,
     "metadata": {},
     "output_type": "execute_result"
    }
   ],
   "source": [
    "hotel_info"
   ]
  },
  {
   "cell_type": "code",
   "execution_count": 47,
   "metadata": {},
   "outputs": [
    {
     "data": {
      "application/vnd.jupyter.widget-view+json": {
       "model_id": "9047931a13d34bf99070ba5a073c51ca",
       "version_major": 2,
       "version_minor": 0
      },
      "text/plain": [
       "Figure(layout=FigureLayout(height='420px'))"
      ]
     },
     "metadata": {},
     "output_type": "display_data"
    }
   ],
   "source": [
    "# Add a marker layer for each city to the map.\n",
    "\n",
    "marker_layer = gmaps.marker_layer(locations, info_box_content=hotel_info)\n",
    "fig = gmaps.figure(center=(30.0, 31.0), zoom_level=3.5)\n",
    "fig = gmaps.figure()\n",
    "fig.add_layer(marker_layer)\n",
    "\n",
    "# Display the figure\n",
    "fig"
   ]
  },
  {
   "cell_type": "markdown",
   "metadata": {},
   "source": [
    "## From the vacation search map, *choose four cities* that a customer might want to visit. They should be close together and in the same country."
   ]
  },
  {
   "cell_type": "code",
   "execution_count": 46,
   "metadata": {},
   "outputs": [],
   "source": [
    "# Create DataFrames for each city by filtering the 'vacation_df' using the loc method. \n",
    "start_city = \"Clermont\"\n",
    "end_city = \"Clermont\"\n",
    "city1 = \"Vesoul\"\n",
    "city2 = \"Saint-Francois\"\n",
    "city3 = \"Ussel\"\n",
    "vacation_start_df = vacation_df.loc[vacation_df[\"City\"] == start_city]\n",
    "vacation_end_df = vacation_df.loc[vacation_df[\"City\"] == end_city]\n",
    "vacation_stop1_df = vacation_df.loc[vacation_df[\"City\"] == city1]\n",
    "vacation_stop2_df = vacation_df.loc[vacation_df[\"City\"] == city2]\n",
    "vacation_stop3_df = vacation_df.loc[vacation_df[\"City\"] == city3]"
   ]
  },
  {
   "cell_type": "code",
   "execution_count": 8,
   "metadata": {},
   "outputs": [
    {
     "ename": "SyntaxError",
     "evalue": "invalid syntax (3512152706.py, line 1)",
     "output_type": "error",
     "traceback": [
      "\u001b[1;36m  Input \u001b[1;32mIn [8]\u001b[1;36m\u001b[0m\n\u001b[1;33m    Hotel Name\u001b[0m\n\u001b[1;37m          ^\u001b[0m\n\u001b[1;31mSyntaxError\u001b[0m\u001b[1;31m:\u001b[0m invalid syntax\n"
     ]
    }
   ],
   "source": [
    "\n",
    "Hotel Name\n",
    "gîte et chambres d'hôtes\" Le Manoir Enchanté\" de Mme Doumayrou\n",
    "City\n",
    "Clermont\n",
    "Country\n",
    "FR\n",
    "Current Weather\n",
    "overcast clouds and 43.72 °F\n",
    "\n",
    "Hotel Name\n",
    "Camping Municipal La Louvière\n",
    "City\n",
    "Vesoul\n",
    "Country\n",
    "FR\n",
    "Current Weather\n",
    "overcast clouds and 46.08 °F\n",
    "\n",
    "Hotel Name\n",
    "Maison Vin d'Hus\n",
    "City\n",
    "Saint-Francois\n",
    "Country\n",
    "FR\n",
    "Current Weather\n",
    "overcast clouds and 42.24 °F\n",
    "\n",
    "Hotel Name\n",
    "Logis Hôtel les Gravades\n",
    "City\n",
    "Ussel\n",
    "Country\n",
    "FR\n",
    "Current Weather\n",
    "overcast clouds and 45.79 "
   ]
  },
  {
   "cell_type": "markdown",
   "metadata": {},
   "source": [
    "## Use the `to_numpy()` function and list indexing to write code to retrieve the latitude-longitude pairs as tuples from each city DataFrame."
   ]
  },
  {
   "cell_type": "code",
   "execution_count": 9,
   "metadata": {},
   "outputs": [],
   "source": [
    "# Get the latitude-longitude pairs as tuples from each city DataFrame using the to_numpy function and list indexing.\n",
    "import numpy as np\n",
    "\n",
    "start = vacation_start_df[[\"Lat\", \"Lng\"]].to_numpy()[0]\n",
    "end = vacation_end_df[[\"Lat\", \"Lng\"]].to_numpy()[0]\n",
    "stop1 = vacation_stop1_df[[\"Lat\", \"Lng\"]].to_numpy()[0]\n",
    "stop2 = vacation_stop2_df[[\"Lat\", \"Lng\"]].to_numpy()[0]\n",
    "stop3 = vacation_stop3_df[[\"Lat\", \"Lng\"]].to_numpy()[0]"
   ]
  },
  {
   "cell_type": "markdown",
   "metadata": {},
   "source": [
    "## Use the [gmaps documentation](https://jupyter-gmaps.readthedocs.io/en/latest/tutorial.html#directions-layer) to create a directions layer map using the variables from the previous step. Where the starting and ending city are the same city, the `waypoints` are the three other cities, and the `travel_mode` is either `\"DRIVING\"`, `\"BICYCLING\"`, or `\"WALKING\"`."
   ]
  },
  {
   "cell_type": "code",
   "execution_count": 10,
   "metadata": {
    "tags": []
   },
   "outputs": [
    {
     "data": {
      "application/vnd.jupyter.widget-view+json": {
       "model_id": "5d5a032110f849899f7540379853768c",
       "version_major": 2,
       "version_minor": 0
      },
      "text/plain": [
       "Figure(layout=FigureLayout(height='420px'))"
      ]
     },
     "metadata": {},
     "output_type": "display_data"
    }
   ],
   "source": [
    "# Define a new figure object\n",
    "fig = gmaps.figure()\n",
    "\n",
    "# Create a direction layer map using the start and end latitude-longitude pairs, and stop1, stop2, and stop3 as the waypoints.\n",
    "# The travel_mode should be \"DRIVING\", \"BICYCLING\", or \"WALKING\".\n",
    "vacation_itinerary = gmaps.directions_layer(start, end, waypoints=[stop1,stop2,stop3], travel_mode=\"DRIVING\" or \"BICYCLING\" or \"WALKING\")\n",
    "\n",
    "# Add the layer to the map\n",
    "fig.add_layer(vacation_itinerary)\n",
    "\n",
    "# Display the map\n",
    "fig"
   ]
  },
  {
   "cell_type": "markdown",
   "metadata": {},
   "source": [
    "## Use the provided `concat()` function code snippet to combine the four separate city DataFrames into one DataFrame."
   ]
  },
  {
   "cell_type": "code",
   "execution_count": 11,
   "metadata": {},
   "outputs": [
    {
     "data": {
      "text/html": [
       "<div>\n",
       "<style scoped>\n",
       "    .dataframe tbody tr th:only-of-type {\n",
       "        vertical-align: middle;\n",
       "    }\n",
       "\n",
       "    .dataframe tbody tr th {\n",
       "        vertical-align: top;\n",
       "    }\n",
       "\n",
       "    .dataframe thead th {\n",
       "        text-align: right;\n",
       "    }\n",
       "</style>\n",
       "<table border=\"1\" class=\"dataframe\">\n",
       "  <thead>\n",
       "    <tr style=\"text-align: right;\">\n",
       "      <th></th>\n",
       "      <th>City_ID</th>\n",
       "      <th>City</th>\n",
       "      <th>Country</th>\n",
       "      <th>Max Temp</th>\n",
       "      <th>Lat</th>\n",
       "      <th>Lng</th>\n",
       "      <th>Current_Description</th>\n",
       "      <th>Hotel Name</th>\n",
       "    </tr>\n",
       "  </thead>\n",
       "  <tbody>\n",
       "    <tr>\n",
       "      <th>0</th>\n",
       "      <td>514</td>\n",
       "      <td>Clermont</td>\n",
       "      <td>FR</td>\n",
       "      <td>43.72</td>\n",
       "      <td>49.5000</td>\n",
       "      <td>2.4167</td>\n",
       "      <td>overcast clouds</td>\n",
       "      <td>gîte et chambres d'hôtes\" Le Manoir Enchanté\" ...</td>\n",
       "    </tr>\n",
       "    <tr>\n",
       "      <th>1</th>\n",
       "      <td>34</td>\n",
       "      <td>Vesoul</td>\n",
       "      <td>FR</td>\n",
       "      <td>46.08</td>\n",
       "      <td>47.5833</td>\n",
       "      <td>5.8333</td>\n",
       "      <td>overcast clouds</td>\n",
       "      <td>Camping Municipal La Louvière</td>\n",
       "    </tr>\n",
       "    <tr>\n",
       "      <th>2</th>\n",
       "      <td>554</td>\n",
       "      <td>Saint-Francois</td>\n",
       "      <td>FR</td>\n",
       "      <td>42.24</td>\n",
       "      <td>46.4154</td>\n",
       "      <td>3.9054</td>\n",
       "      <td>overcast clouds</td>\n",
       "      <td>Maison Vin d'Hus</td>\n",
       "    </tr>\n",
       "    <tr>\n",
       "      <th>3</th>\n",
       "      <td>579</td>\n",
       "      <td>Ussel</td>\n",
       "      <td>FR</td>\n",
       "      <td>45.79</td>\n",
       "      <td>45.5500</td>\n",
       "      <td>2.3167</td>\n",
       "      <td>overcast clouds</td>\n",
       "      <td>Logis Hôtel les Gravades</td>\n",
       "    </tr>\n",
       "  </tbody>\n",
       "</table>\n",
       "</div>"
      ],
      "text/plain": [
       "   City_ID            City Country  Max Temp      Lat     Lng  \\\n",
       "0      514        Clermont      FR     43.72  49.5000  2.4167   \n",
       "1       34          Vesoul      FR     46.08  47.5833  5.8333   \n",
       "2      554  Saint-Francois      FR     42.24  46.4154  3.9054   \n",
       "3      579           Ussel      FR     45.79  45.5500  2.3167   \n",
       "\n",
       "  Current_Description                                         Hotel Name  \n",
       "0     overcast clouds  gîte et chambres d'hôtes\" Le Manoir Enchanté\" ...  \n",
       "1     overcast clouds                      Camping Municipal La Louvière  \n",
       "2     overcast clouds                                   Maison Vin d'Hus  \n",
       "3     overcast clouds                           Logis Hôtel les Gravades  "
      ]
     },
     "execution_count": 11,
     "metadata": {},
     "output_type": "execute_result"
    }
   ],
   "source": [
    "#  Combine the four city DataFrames into one DataFrame using the concat() function.\n",
    "itinerary_df = pd.concat(\n",
    "    [\n",
    "        vacation_start_df,\n",
    "        vacation_stop1_df,\n",
    "        vacation_stop2_df,\n",
    "        vacation_stop3_df\n",
    "    ],\n",
    "    ignore_index = True\n",
    ")\n",
    "\n",
    "# Display sample data\n",
    "itinerary_df"
   ]
  },
  {
   "cell_type": "markdown",
   "metadata": {},
   "source": [
    "## Refactor the code from Step 6 to create a new marker layer map of the cities on the travel route."
   ]
  },
  {
   "cell_type": "code",
   "execution_count": 49,
   "metadata": {},
   "outputs": [
    {
     "data": {
      "text/html": [
       "<div>\n",
       "<style scoped>\n",
       "    .dataframe tbody tr th:only-of-type {\n",
       "        vertical-align: middle;\n",
       "    }\n",
       "\n",
       "    .dataframe tbody tr th {\n",
       "        vertical-align: top;\n",
       "    }\n",
       "\n",
       "    .dataframe thead th {\n",
       "        text-align: right;\n",
       "    }\n",
       "</style>\n",
       "<table border=\"1\" class=\"dataframe\">\n",
       "  <thead>\n",
       "    <tr style=\"text-align: right;\">\n",
       "      <th></th>\n",
       "      <th>Lat</th>\n",
       "      <th>Lng</th>\n",
       "    </tr>\n",
       "  </thead>\n",
       "  <tbody>\n",
       "    <tr>\n",
       "      <th>0</th>\n",
       "      <td>49.5000</td>\n",
       "      <td>2.4167</td>\n",
       "    </tr>\n",
       "    <tr>\n",
       "      <th>1</th>\n",
       "      <td>47.5833</td>\n",
       "      <td>5.8333</td>\n",
       "    </tr>\n",
       "    <tr>\n",
       "      <th>2</th>\n",
       "      <td>46.4154</td>\n",
       "      <td>3.9054</td>\n",
       "    </tr>\n",
       "    <tr>\n",
       "      <th>3</th>\n",
       "      <td>45.5500</td>\n",
       "      <td>2.3167</td>\n",
       "    </tr>\n",
       "  </tbody>\n",
       "</table>\n",
       "</div>"
      ],
      "text/plain": [
       "       Lat     Lng\n",
       "0  49.5000  2.4167\n",
       "1  47.5833  5.8333\n",
       "2  46.4154  3.9054\n",
       "3  45.5500  2.3167"
      ]
     },
     "execution_count": 49,
     "metadata": {},
     "output_type": "execute_result"
    }
   ],
   "source": [
    "# Review the formatting template\n",
    "info_box_template = \"\"\"\n",
    "<dl>\n",
    "<dt>Hotel Name</dt><dd>{Hotel Name}</dd>\n",
    "<dt>City</dt><dd>{City}</dd>\n",
    "<dt>Country</dt><dd>{Country}</dd>\n",
    "<dt>Current Weather</dt><dd>{Current_Description} and {Max Temp} °F</dd>\n",
    "</dl>\n",
    "\"\"\"\n",
    "\n",
    "# Get the data from each row and add it to the formatting template and store the data in a list\n",
    "hotel_info = [info_box_template.format(**row) for index, row in itinerary_df.iterrows()]\n",
    "\n",
    "\n",
    "# Get the latitude and longitude from each row and store in a new DataFrame.\n",
    "locations = itinerary_df[[\"Lat\", \"Lng\"]]\n",
    "locations"
   ]
  },
  {
   "cell_type": "code",
   "execution_count": 50,
   "metadata": {},
   "outputs": [
    {
     "data": {
      "text/plain": [
       "['\\n<dl>\\n<dt>Hotel Name</dt><dd>gîte et chambres d\\'hôtes\" Le Manoir Enchanté\" de Mme Doumayrou</dd>\\n<dt>City</dt><dd>Clermont</dd>\\n<dt>Country</dt><dd>FR</dd>\\n<dt>Current Weather</dt><dd>overcast clouds and 43.72 °F</dd>\\n</dl>\\n',\n",
       " '\\n<dl>\\n<dt>Hotel Name</dt><dd>Camping Municipal La Louvière</dd>\\n<dt>City</dt><dd>Vesoul</dd>\\n<dt>Country</dt><dd>FR</dd>\\n<dt>Current Weather</dt><dd>overcast clouds and 46.08 °F</dd>\\n</dl>\\n',\n",
       " \"\\n<dl>\\n<dt>Hotel Name</dt><dd>Maison Vin d'Hus</dd>\\n<dt>City</dt><dd>Saint-Francois</dd>\\n<dt>Country</dt><dd>FR</dd>\\n<dt>Current Weather</dt><dd>overcast clouds and 42.24 °F</dd>\\n</dl>\\n\",\n",
       " '\\n<dl>\\n<dt>Hotel Name</dt><dd>Logis Hôtel les Gravades</dd>\\n<dt>City</dt><dd>Ussel</dd>\\n<dt>Country</dt><dd>FR</dd>\\n<dt>Current Weather</dt><dd>overcast clouds and 45.79 °F</dd>\\n</dl>\\n']"
      ]
     },
     "execution_count": 50,
     "metadata": {},
     "output_type": "execute_result"
    }
   ],
   "source": [
    "hotel_info"
   ]
  },
  {
   "cell_type": "code",
   "execution_count": 51,
   "metadata": {},
   "outputs": [
    {
     "data": {
      "text/plain": [
       "Lat    0\n",
       "Lng    0\n",
       "dtype: int64"
      ]
     },
     "execution_count": 51,
     "metadata": {},
     "output_type": "execute_result"
    }
   ],
   "source": [
    "locations.isna().sum()"
   ]
  },
  {
   "cell_type": "code",
   "execution_count": 57,
   "metadata": {},
   "outputs": [
    {
     "data": {
      "application/vnd.jupyter.widget-view+json": {
       "model_id": "b48aa47e00e247c78e5cd56647e03f1f",
       "version_major": 2,
       "version_minor": 0
      },
      "text/plain": [
       "Figure(layout=FigureLayout(height='420px'))"
      ]
     },
     "metadata": {},
     "output_type": "display_data"
    }
   ],
   "source": [
    "#max_temp = itinerary_df[\"Max Temp\"]\n",
    "# Add a marker layer for each city to the map.\n",
    "marker_layer = gmaps.marker_layer(locations, info_box_content=hotel_info)\n",
    "\n",
    "# Define a new figure object\n",
    "fig = gmaps.figure(center=(30.0, 31.0), zoom_level=2.5)\n",
    "#heat_layer = gmaps.heatmap_layer(locations, weights=max_temp,dissipating=False,\n",
    "           #  max_intensity=300, point_radius=4)\n",
    "\n",
    "# Add the layer to the map\n",
    "fig.add_layer(marker_layer)\n",
    "\n",
    "# Display the map\n",
    "fig"
   ]
  },
  {
   "cell_type": "code",
   "execution_count": null,
   "metadata": {},
   "outputs": [],
   "source": []
  },
  {
   "cell_type": "code",
   "execution_count": null,
   "metadata": {},
   "outputs": [],
   "source": []
  }
 ],
 "metadata": {
  "kernelspec": {
   "display_name": "Python 3 (ipykernel)",
   "language": "python",
   "name": "python3"
  },
  "language_info": {
   "codemirror_mode": {
    "name": "ipython",
    "version": 3
   },
   "file_extension": ".py",
   "mimetype": "text/x-python",
   "name": "python",
   "nbconvert_exporter": "python",
   "pygments_lexer": "ipython3",
   "version": "3.9.12"
  },
  "latex_envs": {
   "LaTeX_envs_menu_present": true,
   "autoclose": false,
   "autocomplete": true,
   "bibliofile": "biblio.bib",
   "cite_by": "apalike",
   "current_citInitial": 1,
   "eqLabelWithNumbers": true,
   "eqNumInitial": 1,
   "hotkeys": {
    "equation": "Ctrl-E",
    "itemize": "Ctrl-I"
   },
   "labels_anchors": false,
   "latex_user_defs": false,
   "report_style_numbering": false,
   "user_envs_cfg": false
  }
 },
 "nbformat": 4,
 "nbformat_minor": 4
}
